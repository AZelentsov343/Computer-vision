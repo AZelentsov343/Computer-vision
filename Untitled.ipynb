{
 "cells": [
  {
   "cell_type": "code",
   "execution_count": 22,
   "metadata": {},
   "outputs": [],
   "source": [
    "import numpy as np\n",
    "\n",
    "def border_cut(x, y):\n",
    "    return (max(-y, 0), max(y, 0), max(-x, 0), max(x, 0))\n",
    "\n",
    "def mse(I1, I2):\n",
    "    return np.sum((I1 - I2) * (I1 - I2))\n",
    "\n",
    "def intersect(img1, img2, x, y):\n",
    "    left_cut, right_cut, top_cut, bottom_cut = border_cut(x, y)\n",
    "    height, width = img1.shape\n",
    "    out_img1 = img1[top_cut:height-bottom_cut, left_cut:width-right_cut]\n",
    "    out_img2 = img2[bottom_cut:height-top_cut, right_cut:width-left_cut]\n",
    "    return (out_img1, out_img2)\n",
    "\n",
    "def best_shifting(channel1, channel2, x_range, y_range):\n",
    "    best_eq = None\n",
    "    pos = [0, 0]\n",
    "    \n",
    "    for x in range(x_range[0], x_range[1]):\n",
    "        for y in range(y_range[0], y_range[1]):\n",
    "            shifted_channel1, cuted_channel2 = intersect(channel1, channel2, x, y)\n",
    "            metrik = mse(cuted_channel2, shifted_channel1)\n",
    "            if best_eq is None or metrik < best_eq:\n",
    "                best_eq = metrik\n",
    "                pos = [x, y]\n",
    "    return pos\n",
    "\n",
    "\n",
    "def pyramid(channel1, channel2):\n",
    "    if max(channel1.shape) < 250:\n",
    "        return best_shifting(channel1, channel2, (-10, 11), (-10, 11))\n",
    "\n",
    "    resize_channel1 = channel1[::2, ::2]\n",
    "    resize_channel2 = channel2[::2, ::2]\n",
    "    search_range = pyramid(resize_channel1, resize_channel2)\n",
    "    \n",
    "    return best_shifting(channel1, channel2, (2 * search_range[0] - 1, 2 * search_range[0] + 2),\n",
    "                         (2 * search_range[1] - 1, 2 * search_range[1] + 2))\n",
    "\n",
    "\n",
    "def align(img, g_coord):\n",
    "    row_g, col_g = g_coord\n",
    "    full_h, full_w = img.shape\n",
    "    full_h -= full_h % 3\n",
    "    \n",
    "    # Разделение на 3 канала\n",
    "    cur_h = full_h // 3\n",
    "    cur_w = full_w\n",
    "    full_b = img[:cur_h]\n",
    "    full_g = img[cur_h:2 * cur_h]\n",
    "    full_r = img[2 * cur_h: full_h]\n",
    "    \n",
    "    # Обрезка краев\n",
    "    k_cut = 0.15\n",
    "    channel_row_cut = int(cur_h * k_cut)\n",
    "    channel_col_cut = int(cur_w * k_cut)\n",
    "    \n",
    "    b = full_b[channel_row_cut: cur_h - channel_row_cut,\n",
    "               channel_col_cut: cur_w - channel_col_cut]\n",
    "    g = full_g[channel_row_cut: cur_h - channel_row_cut,\n",
    "              channel_col_cut: cur_w - channel_col_cut]\n",
    "    r = full_r[channel_row_cut: cur_h - channel_row_cut,\n",
    "              channel_col_cut: cur_w - channel_col_cut]\n",
    "\n",
    "    # совмещаем\n",
    "    x, y = pyramid(r, g)\n",
    "    shifted_r = np.roll(full_r, (x, y), (0, 1))\n",
    "    row_r = row_g - x + img.shape[0] // 3\n",
    "    col_r = col_g - y\n",
    "\n",
    "    x, y = pyramid(b, g)\n",
    "    shifted_b = np.roll(full_b, (x, y), (0, 1))\n",
    "    row_b = row_g - x - img.shape[0] // 3\n",
    "    col_b = col_g - y\n",
    "\n",
    "    return np.stack((shifted_r, full_g, shifted_b), axis=-1), (row_b, col_b), (row_r, col_r)\n",
    "\n"
   ]
  },
  {
   "cell_type": "code",
   "execution_count": 26,
   "metadata": {},
   "outputs": [
    {
     "ename": "SyntaxError",
     "evalue": "invalid syntax (<ipython-input-26-e70f887ad4ea>, line 2)",
     "output_type": "error",
     "traceback": [
      "\u001b[0;36m  File \u001b[0;32m\"<ipython-input-26-e70f887ad4ea>\"\u001b[0;36m, line \u001b[0;32m2\u001b[0m\n\u001b[0;31m    from skimage.io import imread, imshow. imsave\u001b[0m\n\u001b[0m                                         ^\u001b[0m\n\u001b[0;31mSyntaxError\u001b[0m\u001b[0;31m:\u001b[0m invalid syntax\n"
     ]
    }
   ],
   "source": [
    "%matplotlib inline\n",
    "from skimage.io import imread, imshow, imsave\n",
    "\n",
    "img = imread('tests/19_test_img_input/img.png', plugin='matplotlib')\n",
    "imsave('imgdel.png', img)\n",
    "print(img[500:510, 500:510])\n",
    "\n",
    "#aligned_img, _, _ = align(img, (0, 0))\n",
    "imshow(aligned_img)"
   ]
  },
  {
   "cell_type": "code",
   "execution_count": null,
   "metadata": {},
   "outputs": [],
   "source": []
  }
 ],
 "metadata": {
  "kernelspec": {
   "display_name": "Python 3",
   "language": "python",
   "name": "python3"
  },
  "language_info": {
   "codemirror_mode": {
    "name": "ipython",
    "version": 3
   },
   "file_extension": ".py",
   "mimetype": "text/x-python",
   "name": "python",
   "nbconvert_exporter": "python",
   "pygments_lexer": "ipython3",
   "version": "3.7.3"
  }
 },
 "nbformat": 4,
 "nbformat_minor": 2
}
